{
 "cells": [
  {
   "cell_type": "code",
   "execution_count": 12,
   "metadata": {},
   "outputs": [],
   "source": [
    "import numpy as np\n",
    "import pickle, h5py\n",
    "import pandas as pd\n",
    "import matplotlib.pyplot as plt"
   ]
  },
  {
   "cell_type": "code",
   "execution_count": 13,
   "metadata": {},
   "outputs": [],
   "source": [
    "embedding_model = 'NeuTraj-Adversarial'\n",
    "embedding_size = 128\n",
    "num_layers = 3\n",
    "hidden_size = 128\n",
    "\n",
    "partition = 't2vec_partition'"
   ]
  },
  {
   "cell_type": "code",
   "execution_count": 14,
   "metadata": {},
   "outputs": [],
   "source": [
    "if partition == 'new_partition':\n",
    "    vocab_dist_cell = h5py.File(\"porto-vocab-dist-cell75.h5\", \"r\")\n",
    "    D = vocab_dist_cell['D']\n",
    "    V = vocab_dist_cell['V']\n",
    "else:\n",
    "    vocab_dist_cell = h5py.File(\"porto-vocab-dist-cell100.h5\", \"r\")\n",
    "    D = vocab_dist_cell['D']\n",
    "    V = vocab_dist_cell['V']"
   ]
  },
  {
   "cell_type": "code",
   "execution_count": 15,
   "metadata": {},
   "outputs": [],
   "source": [
    "def get_neighbours(trg,V):\n",
    "    neighbours = []\n",
    "    for cell in trg:\n",
    "        neighbours += list(V[cell])\n",
    "    return neighbours\n"
   ]
  },
  {
   "cell_type": "code",
   "execution_count": 16,
   "metadata": {},
   "outputs": [],
   "source": [
    "def del_zero(trj):\n",
    "    while 0 in trj:\n",
    "        trj.remove(0)\n",
    "    while 3 in trj:\n",
    "        trj.remove(3)\n",
    "    return trj"
   ]
  },
  {
   "cell_type": "code",
   "execution_count": 17,
   "metadata": {},
   "outputs": [
    {
     "name": "stdout",
     "output_type": "stream",
     "text": [
      "10000\n",
      "[619 643 643 119 119 365 365 365 365  63  63  63   0   0   0   0   0   0\n",
      "   0   0]\n"
     ]
    }
   ],
   "source": [
    "with open('inversions_{}_{}_{}_{}_{}_100000'.format(embedding_model, str(embedding_size), num_layers, hidden_size, partition), 'rb') as f:\n",
    "    inversions = pickle.load(f)\n",
    "print(len(inversions))\n",
    "print(inversions[0])"
   ]
  },
  {
   "cell_type": "code",
   "execution_count": 18,
   "metadata": {},
   "outputs": [
    {
     "name": "stdout",
     "output_type": "stream",
     "text": [
      "1000\n",
      "2000\n",
      "pre 2997\n",
      "3000\n",
      "pre 3205\n",
      "pre 3373\n",
      "pre 3378\n",
      "4000\n",
      "pre 4128\n",
      "pre 4770\n",
      "5000\n",
      "pre 5729\n",
      "6000\n",
      "pre 6683\n",
      "7000\n",
      "8000\n",
      "9000\n",
      "pre 9961\n",
      "10000\n"
     ]
    }
   ],
   "source": [
    "# 考虑原轨迹邻居的预测轨迹准确率\n",
    "precision = []\n",
    "with open(\"../data/target/{}/test-real.trg\".format(partition), \"r\") as f:\n",
    "    i = 0\n",
    "    for line in f:\n",
    "        i += 1\n",
    "        in_count = 0\n",
    "        trg = [int(x) for x in line.split()]\n",
    "        trg = del_zero(trg)\n",
    "        if len(trg) == 0:\n",
    "            print(\"trg\", i)\n",
    "            continue\n",
    "\n",
    "        pre = inversions[i-1]\n",
    "        pre = [int(x) for x in pre]\n",
    "        pre = del_zero(pre)\n",
    "        pre = list(set(pre))\n",
    "        \n",
    "        len_pre = len(pre)\n",
    "        \n",
    "        if len(pre) == 0:\n",
    "            print(\"pre\", i)\n",
    "            continue\n",
    "\n",
    "        neighbours = get_neighbours(trg, V)\n",
    "\n",
    "        for cell in pre:\n",
    "            if cell in neighbours:\n",
    "                in_count += 1\n",
    "        precision.append(in_count/len_pre)\n",
    "        \n",
    "        if i % 1000 == 0:\n",
    "            print(i)"
   ]
  },
  {
   "cell_type": "code",
   "execution_count": 19,
   "metadata": {},
   "outputs": [
    {
     "name": "stdout",
     "output_type": "stream",
     "text": [
      "0.5524731493553414\n"
     ]
    }
   ],
   "source": [
    "# 考虑最近邻的预测轨迹准确率\n",
    "print(sum(precision)/len(precision))"
   ]
  },
  {
   "cell_type": "code",
   "execution_count": 20,
   "metadata": {},
   "outputs": [
    {
     "data": {
      "image/png": "[encoded data removed]",
      "text/plain": [
       "<Figure size 432x288 with 1 Axes>"
      ]
     },
     "metadata": {
      "needs_background": "light"
     },
     "output_type": "display_data"
    }
   ],
   "source": [
    "precision = np.asarray(precision)\n",
    "df = pd.DataFrame({\"precision\": precision})\n",
    "hist = df.plot.hist(bins=10)\n",
    "plt.xlabel('Precision')\n",
    "plt.ylabel('Frequency')\n",
    "plt.show()"
   ]
  },
  {
   "cell_type": "code",
   "execution_count": 21,
   "metadata": {},
   "outputs": [
    {
     "name": "stdout",
     "output_type": "stream",
     "text": [
      "1000\n",
      "2000\n",
      "pre 2997\n",
      "3000\n",
      "pre 3205\n",
      "pre 3373\n",
      "pre 3378\n",
      "4000\n",
      "pre 4128\n",
      "pre 4770\n",
      "5000\n",
      "pre 5729\n",
      "6000\n",
      "pre 6683\n",
      "7000\n",
      "8000\n",
      "9000\n",
      "pre 9961\n",
      "10000\n"
     ]
    }
   ],
   "source": [
    "# 考虑原轨迹邻居的召回率\n",
    "\n",
    "recall = []\n",
    "\n",
    "with open(\"../data/target/{}/test-real.trg\".format(partition), \"r\") as f:\n",
    "    i = 0\n",
    "    for line in f:\n",
    "        i += 1\n",
    "        in_count = 0\n",
    "        trg = [int(x) for x in line.split()]\n",
    "        trg = del_zero(trg)\n",
    "        trg = list(set(trg))\n",
    "        if len(trg) == 0:\n",
    "            print(\"trg\", i)\n",
    "            continue\n",
    "\n",
    "        len_trg = len(trg)\n",
    "\n",
    "        pre = inversions[i-1]\n",
    "        pre = [int(x) for x in pre]\n",
    "        pre = del_zero(pre)\n",
    "        pre = list(set(pre))\n",
    "        \n",
    "        if len(pre) == 0:\n",
    "            print(\"pre\", i)\n",
    "            continue\n",
    "\n",
    "        for cell in trg:\n",
    "            neighbours = V[cell]\n",
    "            for neighbour in neighbours:\n",
    "                if neighbour in pre:\n",
    "                    in_count += 1\n",
    "                    break\n",
    "        \n",
    "        recall.append(in_count/len_trg)\n",
    "        if i%1000 == 0:\n",
    "            print(i)"
   ]
  },
  {
   "cell_type": "code",
   "execution_count": 22,
   "metadata": {},
   "outputs": [
    {
     "name": "stdout",
     "output_type": "stream",
     "text": [
      "0.18013984223075105\n"
     ]
    }
   ],
   "source": [
    "# 考虑原轨迹邻居的情况下的召回率\n",
    "print(sum(recall)/len(recall))"
   ]
  },
  {
   "cell_type": "code",
   "execution_count": 23,
   "metadata": {},
   "outputs": [
    {
     "data": {
      "image/png": "[encoded data removed]",
      "text/plain": [
       "<Figure size 432x288 with 1 Axes>"
      ]
     },
     "metadata": {
      "needs_background": "light"
     },
     "output_type": "display_data"
    }
   ],
   "source": [
    "recall = np.asarray(recall)\n",
    "df = pd.DataFrame({\"recall\": recall})\n",
    "hist = df.plot.hist(bins=10)\n",
    "plt.xlabel('Recall')\n",
    "plt.ylabel('Frequency')\n",
    "plt.show()"
   ]
  },
  {
   "cell_type": "code",
   "execution_count": null,
   "metadata": {},
   "outputs": [],
   "source": []
  }
 ],
 "metadata": {
  "kernelspec": {
   "display_name": "pytorch",
   "language": "python",
   "name": "pytorch"
  },
  "language_info": {
   "codemirror_mode": {
    "name": "ipython",
    "version": 3
   },
   "file_extension": ".py",
   "mimetype": "text/x-python",
   "name": "python",
   "nbconvert_exporter": "python",
   "pygments_lexer": "ipython3",
   "version": "3.8.10 (default, Jun  4 2021, 15:09:15) \n[GCC 7.5.0]"
  },
  "vscode": {
   "interpreter": {
    "hash": "74430807b776029a2d62ab2bf3795481a0b6323cc95d6348c5d973138e527706"
   }
  }
 },
 "nbformat": 4,
 "nbformat_minor": 2
}
